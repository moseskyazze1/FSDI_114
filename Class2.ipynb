{
 "cells": [
  {
   "cell_type": "markdown",
   "id": "4030a5e5-7738-492a-b0a6-1ffd5a34f987",
   "metadata": {},
   "source": [
    "# Stacks"
   ]
  },
  {
   "cell_type": "code",
   "execution_count": 1,
   "id": "b90980be-78c0-43bd-b5c8-2175f65b54e1",
   "metadata": {},
   "outputs": [],
   "source": [
    "# simplified implementation of stack (relying on built-ins)\n",
    "\n",
    "class Stack:\n",
    "    def __init__(self):\n",
    "        self.items = []\n",
    "\n",
    "    def push(self, element):\n",
    "        self.items.append(element)\n",
    "\n",
    "    def pop(self):\n",
    "        return self.items.pop()\n",
    "\n",
    "    #nice to have methods\n",
    "    def peek(self):\n",
    "        return self.items[len(self.items)-1]\n",
    "\n",
    "    def size(self):\n",
    "        return len(self.items)\n",
    "\n",
    "    def is_empty(self):\n",
    "        return self.items == []\n"
   ]
  },
  {
   "cell_type": "markdown",
   "id": "1dfb557f-a489-4808-9ebc-8d4f21057f24",
   "metadata": {},
   "source": [
    "# Problem 1\n",
    "\n",
    "## Inverting strings\n",
    "Create a function that *must* use the `Stack` class above to invert a string.\n",
    "\n",
    "In general, your function's flow should follow these steps:\n",
    "\n",
    "0. Your function should receive a string as a parameter.\n",
    "1. Create an instance of `Stack`.\n",
    "2. Push all the elements in the string onto your stack (via looping and calling the push method).\n",
    "3. Create an empty string.\n",
    "4. Loop until the stack is empty, calling pop on your instance of `Stack` and feeding the popped element to your output string.\n",
    "5. Return the output string once the stack is empty (hint: the `is_empty` method).\n",
    "\n",
    "## Examples\n",
    "```\n",
    "rafael -> leafar\n",
    "cars -> srac\n",
    "hello -> olleh\n",
    "```"
   ]
  },
  {
   "cell_type": "code",
   "execution_count": null,
   "id": "9929bf8d-bdd7-494b-85ef-01d17c61dcbe",
   "metadata": {},
   "outputs": [],
   "source": [
    "\n",
    "class Stack:\n",
    "    def __init__(self):\n",
    "        self.items = []\n",
    "\n",
    "    def push(self, element):\n",
    "        self.items.append(element)\n",
    "\n",
    "    def pop(self):\n",
    "        return self.items.pop()\n",
    "\n",
    "    #nice to have methods\n",
    "    def peek(self):\n",
    "        return self.items[len(self.items)-1]\n",
    "\n",
    "    def size(self):\n",
    "        return len(self.items)\n",
    "\n",
    "    def is_empty(self):\n",
    "        return self.items == []\n"
   ]
  },
  {
   "cell_type": "code",
   "execution_count": 7,
   "id": "31195299-8326-4ade-a960-e2cd5fcdd05f",
   "metadata": {},
   "outputs": [],
   "source": [
    "def invert_string(input_string):\n",
    "    stack = Stack()\n",
    "    \n",
    "    for char in input_string:\n",
    "        stack.push(char)\n",
    "    \n",
    "    output_string = \"\"\n",
    "    \n",
    "    while not stack.is_empty():\n",
    "        char = stack.pop()\n",
    "        output_string += char\n",
    "    \n",
    "    return output_string"
   ]
  },
  {
   "cell_type": "code",
   "execution_count": 8,
   "id": "188c24d4-07bc-4599-9cbc-0b1a02b1e3d3",
   "metadata": {},
   "outputs": [
    {
     "name": "stdout",
     "output_type": "stream",
     "text": [
      "leafar\n",
      "srac\n",
      "olleh\n"
     ]
    }
   ],
   "source": [
    "print (invert_string(\"rafael\"))\n",
    "print (invert_string(\"cars\"))\n",
    "print (invert_string(\"hello\"))"
   ]
  },
  {
   "cell_type": "code",
   "execution_count": 1,
   "id": "468e14db-463c-40af-9285-e0848e68fedd",
   "metadata": {},
   "outputs": [],
   "source": [
    "# from scratch implementation of Stack\n",
    "\n",
    "class StackII:\n",
    "    class __Node:\n",
    "        def __init__(self, data):\n",
    "            self.data = data\n",
    "            self.below = None\n",
    "    def __init__(self):\n",
    "        self.top = None\n",
    "\n",
    "    def push(self, value):\n",
    "        new_node = self.__Node(value)\n",
    "        if not self.top:\n",
    "            self.top = new_node\n",
    "        else:\n",
    "            old_top = self.top\n",
    "            new_node.below = old_top\n",
    "            self.top = new_node\n",
    "\n",
    "    def pop(self):\n",
    "        if self.top:\n",
    "            datum = self.top.data\n",
    "            self.top = self.top.below\n",
    "            return datum\n",
    "        raise IndexError(\"Stack is empty\")\n",
    "\n",
    "   #Nice to have methods (boilerplates)\n",
    "    def peek(self):  # Can be done in one line of code\n",
    "         return self.top.data         # Shows you the data point on the topmost node, without removing it from the stack\n",
    "\n",
    "    def size(self):  #this one is more challenging\n",
    "        count = 0\n",
    "        current = self.top\n",
    "        while current:\n",
    "            count += 1\n",
    "            current = current.below\n",
    "        return count         # Counts the number of nodes in our stack\n",
    "\n",
    "    def is_empty(self): # Can also be done in one line of code\n",
    "         return self.top is None            # returns True when stack is empty, False otherwise"
   ]
  },
  {
   "cell_type": "code",
   "execution_count": 11,
   "id": "228b023e-7b65-46c3-bf6a-b2959381724a",
   "metadata": {},
   "outputs": [
    {
     "name": "stdout",
     "output_type": "stream",
     "text": [
      "hello\n"
     ]
    }
   ],
   "source": [
    "stack = StackII()  #this is how we test\n",
    "\n",
    "stack.push(\"hello\")\n",
    "out = stack.pop()\n",
    "\n",
    "print(out)"
   ]
  },
  {
   "cell_type": "code",
   "execution_count": 13,
   "id": "5c377f17-fd2e-45b0-801d-99c91a64e51e",
   "metadata": {},
   "outputs": [],
   "source": [
    "# Simplified implementation of queue\n",
    "\n",
    "class Queue:\n",
    "    def __init__(self):\n",
    "            self.items = []\n",
    "        \n",
    "    def enqueue(self, value):\n",
    "        self.items.insert(0, value)\n",
    "\n",
    "    def dequeue(self):\n",
    "        return self.items.pop()\n",
    "\n",
    "    #Nice to have methods\n",
    "    def peek(self):\n",
    "        return self.items[len(self.items)-1]\n",
    "\n",
    "    def size(self):\n",
    "        return len(self.items)\n",
    "\n",
    "    def is_empty(self):\n",
    "        return self.items == []"
   ]
  },
  {
   "cell_type": "markdown",
   "id": "1bd5d55b-bb41-4a4e-8326-1b8d52d1f7ae",
   "metadata": {},
   "source": [
    "# Problem 2\n",
    "\n",
    "## From scratch implementation of queue\n",
    "Generate a class called QueueII which does not rely on built-ins yet represents the operations required to qualify as queue (considering the ordering principle which is FIFO -- First in, first out).\n",
    "\n",
    "### Acceptance criteria\n",
    "1. You must have an enqueue method, which adds new elements to the back or rear of the queue.\n",
    "2. You must have a dequeue method, which removes and returns from the front of the queue.\n",
    "\n",
    "### Bonus\n",
    "Implement all the \"nice to have\" methods on QueueII and validate them by testing manually."
   ]
  },
  {
   "cell_type": "code",
   "execution_count": 14,
   "id": "136f4b43-15c4-4f36-b136-3b84766bcca6",
   "metadata": {},
   "outputs": [
    {
     "ename": "IndentationError",
     "evalue": "unindent does not match any outer indentation level (<tokenize>, line 33)",
     "output_type": "error",
     "traceback": [
      "\u001b[0;36m  File \u001b[0;32m<tokenize>:33\u001b[0;36m\u001b[0m\n\u001b[0;31m    def is_empty(self):\u001b[0m\n\u001b[0m    ^\u001b[0m\n\u001b[0;31mIndentationError\u001b[0m\u001b[0;31m:\u001b[0m unindent does not match any outer indentation level\n"
     ]
    }
   ],
   "source": [
    "# From scratch implementation of Queue (no built-ins)\n",
    "# Boilerplate\n",
    "\n",
    "class QueueII:\n",
    "    class __Node:\n",
    "        def __init__(self, data):\n",
    "            self.data = data\n",
    "            self.next = None\n",
    "\n",
    "    def __init__(self):\n",
    "        self.rear = None\n",
    "        self.front = None\n",
    "\n",
    "    # Adds a new element to the end of the queue\n",
    "    def enqueue(self, data):\n",
    "        new_node = self.__Node(data)                        # Creates a new node with the given data.\n",
    "        if self.rear is None:                               # Checks if the queue is empty (i.e., there are no nodes)\n",
    "            self.front = self.rear = new_node               # If the queue is empty, both front and rear point to the new node.\n",
    "        else:                                               # If the queue is not empty, add the new node to the end\n",
    "            self.rear.next = new_node                       # Sets the next reference of the current rear node to the new node.\n",
    "            self.rear = new_node                            # Updates the rear reference to the new node\n",
    "\n",
    "    # Removes and returns the element at the front of the queue\n",
    "    def dequeue(self):\n",
    "        if self.front is None:                               # Checks if the queue is empty\n",
    "            raise IndexError(\"Dequeue from an empty queue\")  # If empty, raises an error.\n",
    "        datum = self.front.data                       # Saves the data from the front node.\n",
    "        self.front = self.front.next                         # Moves the front reference to the next node.\n",
    "        if self.front is None:                               # Checks if the queue is now empty after the removal\n",
    "            self.rear = None                                 # If empty, also set rear to None.\n",
    "        return datum                                        # Returns the data of the removed node.\n",
    "\n",
    "       def is_empty(self):\n",
    "           return self.front == None\n",
    "    \n",
    "       def peek(self):\n",
    "           if self.front:\n",
    "               return self.front.data\n",
    "           raise IndexError(\"Queue is empty\")\n",
    "    \n",
    "       def size(self):\n",
    "           count = 0\n",
    "           current = self.front\n",
    "           while current:\n",
    "               count += 1\n",
    "               current = current.next\n",
    "           return count"
   ]
  },
  {
   "cell_type": "code",
   "execution_count": null,
   "id": "7ca0f030-d102-4f16-a6d9-587e23d75b81",
   "metadata": {},
   "outputs": [],
   "source": []
  }
 ],
 "metadata": {
  "kernelspec": {
   "display_name": "Python 3 (ipykernel)",
   "language": "python",
   "name": "python3"
  },
  "language_info": {
   "codemirror_mode": {
    "name": "ipython",
    "version": 3
   },
   "file_extension": ".py",
   "mimetype": "text/x-python",
   "name": "python",
   "nbconvert_exporter": "python",
   "pygments_lexer": "ipython3",
   "version": "3.10.12"
  }
 },
 "nbformat": 4,
 "nbformat_minor": 5
}
